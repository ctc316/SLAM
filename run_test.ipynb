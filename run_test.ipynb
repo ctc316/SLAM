{
 "cells": [
  {
   "cell_type": "code",
   "execution_count": 18,
   "metadata": {},
   "outputs": [],
   "source": [
    "import os\n",
    "import matplotlib\n",
    "\n",
    "from utils import *\n",
    "from slam import *\n",
    "from load_data import *\n",
    "\n",
    "%matplotlib inline"
   ]
  },
  {
   "cell_type": "markdown",
   "metadata": {},
   "source": [
    "### Load Test Data"
   ]
  },
  {
   "cell_type": "code",
   "execution_count": 19,
   "metadata": {},
   "outputs": [],
   "source": [
    "TEST_DIR = 'test_data/'\n",
    "TEST_NO = '24'"
   ]
  },
  {
   "cell_type": "markdown",
   "metadata": {},
   "source": [
    "### Data Preprocessing"
   ]
  },
  {
   "cell_type": "code",
   "execution_count": null,
   "metadata": {},
   "outputs": [],
   "source": [
    "%%time\n",
    "\n",
    "encoders = get_encoder(os.path.join(TEST_DIR, 'Encoders' + TEST_NO))\n",
    "hokuyo = get_lidar(os.path.join(TEST_DIR, 'Hokuyo' + TEST_NO))\n",
    "imu = get_imu(os.path.join(TEST_DIR, 'imu' + TEST_NO))\n",
    "\n",
    "sample_rate = 10\n",
    "offset = getStaticOffset(encoders)\n",
    "xs, ys, thetas, timestamps = getOdometry(encoders, sample_rate, offset)\n",
    "lidars = getMatchedLidarData(hokuyo, timestamps)\n",
    "imus = getMatchedImuData(imu, timestamps)\n",
    "gyro_y = imus[:, 4]\n",
    "tilted = isTilted(gyro_y)"
   ]
  },
  {
   "cell_type": "markdown",
   "metadata": {},
   "source": [
    "### Run SLAM"
   ]
  },
  {
   "cell_type": "code",
   "execution_count": null,
   "metadata": {},
   "outputs": [],
   "source": [
    "%%time\n",
    "\n",
    "RESULT_DIR = 'results/'\n",
    "if not os.path.exists(RESULT_DIR):\n",
    "    os.makedirs(RESULT_DIR)\n",
    "    \n",
    "n = len(xs)\n",
    "res = 0.05\n",
    "grid_size = 1500\n",
    "lidar_angles = lidars[0]['angle']\n",
    "lidar_starting_angle = -135 / 180 * np.pi\n",
    "noise = np.array([0.5, 0.5, 0.1 * np.pi / 180]) # x, y, theta\n",
    "log_prob = np.log(0.9/0.1)\n",
    "particles = 200\n",
    "iters_start_map = n // 20\n",
    "draw_thresh = n // 9\n",
    "ocpy_thresh = 150 / sample_rate\n",
    "empty_thresh = -ocpy_thresh\n",
    "\n",
    "\n",
    "slam = Slam(n, lidar_angles, lidar_starting_angle, noise, log_prob, ocpy_thresh, empty_thresh, res=res, grid_size=grid_size, iters_start_map=iters_start_map, n_particles=particles)\n",
    "for i in range(n):\n",
    "    slam.update(xs[i], ys[i], thetas[i], lidars[i]['scan'], tilted[i])\n",
    "    if (i + 1) % draw_thresh == 0 or i == n - 1:\n",
    "        slam_map, particle, odometry = slam.getResults()\n",
    "        plt.figure(figsize=[6, 6])\n",
    "        plt.axis('off')\n",
    "        plt.imshow(slam_map, cmap='gray', vmin=0, vmax=1)\n",
    "        plt.plot(particle[1:i, 1], odometry[1:i, 0], 'r-')\n",
    "        plt.plot(odometry[1:i, 1], odometry[1:i, 0], 'b-')\n",
    "        path = f'{RESULT_DIR}{TEST_NO}_{res}_{grid_size}_{sample_rate}_{particles}_{ocpy_thresh}_{empty_thresh}_{noise[0]}_{i}.png'\n",
    "        plt.savefig(path)\n",
    "        plt.show()\n",
    "        plt.close()\n",
    "        print(f\"figure {i} is saved to\", path)\n",
    "        "
   ]
  },
  {
   "cell_type": "code",
   "execution_count": null,
   "metadata": {},
   "outputs": [],
   "source": []
  }
 ],
 "metadata": {
  "kernelspec": {
   "display_name": "slam",
   "language": "python",
   "name": "slam"
  },
  "language_info": {
   "codemirror_mode": {
    "name": "ipython",
    "version": 3
   },
   "file_extension": ".py",
   "mimetype": "text/x-python",
   "name": "python",
   "nbconvert_exporter": "python",
   "pygments_lexer": "ipython3",
   "version": "3.7.0"
  }
 },
 "nbformat": 4,
 "nbformat_minor": 2
}
